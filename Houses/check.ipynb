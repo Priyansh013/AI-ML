{
 "cells": [
  {
   "cell_type": "code",
   "execution_count": 53,
   "metadata": {},
   "outputs": [],
   "source": [
    "import pandas as pd\n",
    "import torch\n",
    "import numpy as np\n",
    "import torch.nn as nn\n",
    "import torch.nn.functional as F\n",
    "import matplotlib.pyplot as plt\n",
    "%matplotlib inline\n",
    "from sklearn.model_selection import train_test_split\n",
    "from sklearn.metrics import confusion_matrix\n",
    "from sklearn.metrics import accuracy_score\n",
    "from sklearn.preprocessing import LabelEncoder\n",
    "import seaborn as sns\n",
    "import datetime\n"
   ]
  },
  {
   "cell_type": "code",
   "execution_count": 54,
   "metadata": {},
   "outputs": [],
   "source": [
    "class Model(nn.Module):\n",
    "    def __init__(self,input,h1,h2,output):\n",
    "        super().__init__()\n",
    "        self.fc1 = nn.Linear(input,h1)\n",
    "        self.fc2 = nn.Linear(h1,h2)\n",
    "        self.out = nn.Linear(h2,output)\n",
    "    \n",
    "    \n",
    "    def forward(self,x):\n",
    "        x = F.relu(self.fc1(x))\n",
    "        x = F.relu(self.fc2(x))\n",
    "        x = self.out(x)\n",
    "        return x"
   ]
  },
  {
   "cell_type": "code",
   "execution_count": 55,
   "metadata": {},
   "outputs": [],
   "source": [
    "model = Model(2,10,5,1)"
   ]
  },
  {
   "cell_type": "code",
   "execution_count": 56,
   "metadata": {},
   "outputs": [],
   "source": [
    "loss_fn = nn.MSELoss()\n",
    "optimiser = torch.optim.Adam(model.parameters(),lr=0.01)"
   ]
  },
  {
   "cell_type": "code",
   "execution_count": null,
   "metadata": {},
   "outputs": [],
   "source": []
  },
  {
   "cell_type": "code",
   "execution_count": null,
   "metadata": {},
   "outputs": [],
   "source": []
  },
  {
   "cell_type": "code",
   "execution_count": 57,
   "metadata": {},
   "outputs": [
    {
     "data": {
      "text/html": [
       "<div>\n",
       "<style scoped>\n",
       "    .dataframe tbody tr th:only-of-type {\n",
       "        vertical-align: middle;\n",
       "    }\n",
       "\n",
       "    .dataframe tbody tr th {\n",
       "        vertical-align: top;\n",
       "    }\n",
       "\n",
       "    .dataframe thead th {\n",
       "        text-align: right;\n",
       "    }\n",
       "</style>\n",
       "<table border=\"1\" class=\"dataframe\">\n",
       "  <thead>\n",
       "    <tr style=\"text-align: right;\">\n",
       "      <th></th>\n",
       "      <th>LotFrontage</th>\n",
       "      <th>LotArea</th>\n",
       "      <th>SalePrice</th>\n",
       "    </tr>\n",
       "  </thead>\n",
       "  <tbody>\n",
       "    <tr>\n",
       "      <th>0</th>\n",
       "      <td>65.0</td>\n",
       "      <td>8450</td>\n",
       "      <td>208500</td>\n",
       "    </tr>\n",
       "    <tr>\n",
       "      <th>1</th>\n",
       "      <td>80.0</td>\n",
       "      <td>9600</td>\n",
       "      <td>181500</td>\n",
       "    </tr>\n",
       "    <tr>\n",
       "      <th>2</th>\n",
       "      <td>68.0</td>\n",
       "      <td>11250</td>\n",
       "      <td>223500</td>\n",
       "    </tr>\n",
       "    <tr>\n",
       "      <th>3</th>\n",
       "      <td>60.0</td>\n",
       "      <td>9550</td>\n",
       "      <td>140000</td>\n",
       "    </tr>\n",
       "    <tr>\n",
       "      <th>4</th>\n",
       "      <td>84.0</td>\n",
       "      <td>14260</td>\n",
       "      <td>250000</td>\n",
       "    </tr>\n",
       "  </tbody>\n",
       "</table>\n",
       "</div>"
      ],
      "text/plain": [
       "   LotFrontage  LotArea  SalePrice\n",
       "0         65.0     8450     208500\n",
       "1         80.0     9600     181500\n",
       "2         68.0    11250     223500\n",
       "3         60.0     9550     140000\n",
       "4         84.0    14260     250000"
      ]
     },
     "execution_count": 57,
     "metadata": {},
     "output_type": "execute_result"
    }
   ],
   "source": [
    "df = pd.read_csv(\"houses.csv\" , usecols=[\"LotFrontage\",\"LotArea\",\"SalePrice\"])\n",
    "df.head()"
   ]
  },
  {
   "cell_type": "code",
   "execution_count": 58,
   "metadata": {},
   "outputs": [
    {
     "name": "stdout",
     "output_type": "stream",
     "text": [
      "<class 'pandas.core.frame.DataFrame'>\n",
      "RangeIndex: 1460 entries, 0 to 1459\n",
      "Data columns (total 3 columns):\n",
      " #   Column       Non-Null Count  Dtype  \n",
      "---  ------       --------------  -----  \n",
      " 0   LotFrontage  1201 non-null   float64\n",
      " 1   LotArea      1460 non-null   int64  \n",
      " 2   SalePrice    1460 non-null   int64  \n",
      "dtypes: float64(1), int64(2)\n",
      "memory usage: 34.3 KB\n"
     ]
    }
   ],
   "source": [
    "df.info()"
   ]
  },
  {
   "cell_type": "code",
   "execution_count": 59,
   "metadata": {},
   "outputs": [
    {
     "data": {
      "text/plain": [
       "0    208500\n",
       "1    181500\n",
       "2    223500\n",
       "3    140000\n",
       "4    250000\n",
       "Name: SalePrice, dtype: int64"
      ]
     },
     "execution_count": 59,
     "metadata": {},
     "output_type": "execute_result"
    }
   ],
   "source": [
    "X = df.drop(\"SalePrice\", axis=1)\n",
    "X.head()\n",
    "y = df[\"SalePrice\"]\n",
    "y.head()"
   ]
  },
  {
   "cell_type": "code",
   "execution_count": 60,
   "metadata": {},
   "outputs": [
    {
     "data": {
      "text/html": [
       "<div>\n",
       "<style scoped>\n",
       "    .dataframe tbody tr th:only-of-type {\n",
       "        vertical-align: middle;\n",
       "    }\n",
       "\n",
       "    .dataframe tbody tr th {\n",
       "        vertical-align: top;\n",
       "    }\n",
       "\n",
       "    .dataframe thead th {\n",
       "        text-align: right;\n",
       "    }\n",
       "</style>\n",
       "<table border=\"1\" class=\"dataframe\">\n",
       "  <thead>\n",
       "    <tr style=\"text-align: right;\">\n",
       "      <th></th>\n",
       "      <th>LotFrontage</th>\n",
       "      <th>LotArea</th>\n",
       "    </tr>\n",
       "  </thead>\n",
       "  <tbody>\n",
       "    <tr>\n",
       "      <th>0</th>\n",
       "      <td>65.0</td>\n",
       "      <td>8450</td>\n",
       "    </tr>\n",
       "    <tr>\n",
       "      <th>1</th>\n",
       "      <td>80.0</td>\n",
       "      <td>9600</td>\n",
       "    </tr>\n",
       "    <tr>\n",
       "      <th>2</th>\n",
       "      <td>68.0</td>\n",
       "      <td>11250</td>\n",
       "    </tr>\n",
       "    <tr>\n",
       "      <th>3</th>\n",
       "      <td>60.0</td>\n",
       "      <td>9550</td>\n",
       "    </tr>\n",
       "    <tr>\n",
       "      <th>4</th>\n",
       "      <td>84.0</td>\n",
       "      <td>14260</td>\n",
       "    </tr>\n",
       "    <tr>\n",
       "      <th>...</th>\n",
       "      <td>...</td>\n",
       "      <td>...</td>\n",
       "    </tr>\n",
       "    <tr>\n",
       "      <th>1455</th>\n",
       "      <td>62.0</td>\n",
       "      <td>7917</td>\n",
       "    </tr>\n",
       "    <tr>\n",
       "      <th>1456</th>\n",
       "      <td>85.0</td>\n",
       "      <td>13175</td>\n",
       "    </tr>\n",
       "    <tr>\n",
       "      <th>1457</th>\n",
       "      <td>66.0</td>\n",
       "      <td>9042</td>\n",
       "    </tr>\n",
       "    <tr>\n",
       "      <th>1458</th>\n",
       "      <td>68.0</td>\n",
       "      <td>9717</td>\n",
       "    </tr>\n",
       "    <tr>\n",
       "      <th>1459</th>\n",
       "      <td>75.0</td>\n",
       "      <td>9937</td>\n",
       "    </tr>\n",
       "  </tbody>\n",
       "</table>\n",
       "<p>1460 rows × 2 columns</p>\n",
       "</div>"
      ],
      "text/plain": [
       "      LotFrontage  LotArea\n",
       "0            65.0     8450\n",
       "1            80.0     9600\n",
       "2            68.0    11250\n",
       "3            60.0     9550\n",
       "4            84.0    14260\n",
       "...           ...      ...\n",
       "1455         62.0     7917\n",
       "1456         85.0    13175\n",
       "1457         66.0     9042\n",
       "1458         68.0     9717\n",
       "1459         75.0     9937\n",
       "\n",
       "[1460 rows x 2 columns]"
      ]
     },
     "execution_count": 60,
     "metadata": {},
     "output_type": "execute_result"
    }
   ],
   "source": [
    "X"
   ]
  },
  {
   "cell_type": "code",
   "execution_count": 61,
   "metadata": {},
   "outputs": [],
   "source": [
    "X = torch.tensor(X.values, dtype=torch.float)\n",
    "y = torch.tensor(y.values, dtype=torch.float)"
   ]
  },
  {
   "cell_type": "code",
   "execution_count": 62,
   "metadata": {},
   "outputs": [
    {
     "name": "stdout",
     "output_type": "stream",
     "text": [
      "Epoch: 0 , Loss: nan\n",
      "Epoch: 10 , Loss: nan\n",
      "Epoch: 20 , Loss: nan\n",
      "Epoch: 30 , Loss: nan\n",
      "Epoch: 40 , Loss: nan\n",
      "Epoch: 50 , Loss: nan\n"
     ]
    },
    {
     "name": "stderr",
     "output_type": "stream",
     "text": [
      "/home/priyansh/.local/lib/python3.10/site-packages/torch/nn/modules/loss.py:535: UserWarning: Using a target size (torch.Size([1460])) that is different to the input size (torch.Size([1460, 1])). This will likely lead to incorrect results due to broadcasting. Please ensure they have the same size.\n",
      "  return F.mse_loss(input, target, reduction=self.reduction)\n"
     ]
    },
    {
     "name": "stdout",
     "output_type": "stream",
     "text": [
      "Epoch: 60 , Loss: nan\n"
     ]
    },
    {
     "name": "stdout",
     "output_type": "stream",
     "text": [
      "Epoch: 70 , Loss: nan\n",
      "Epoch: 80 , Loss: nan\n",
      "Epoch: 90 , Loss: nan\n",
      "Epoch: 100 , Loss: nan\n",
      "Epoch: 110 , Loss: nan\n",
      "Epoch: 120 , Loss: nan\n",
      "Epoch: 130 , Loss: nan\n",
      "Epoch: 140 , Loss: nan\n",
      "Epoch: 150 , Loss: nan\n",
      "Epoch: 160 , Loss: nan\n",
      "Epoch: 170 , Loss: nan\n",
      "Epoch: 180 , Loss: nan\n",
      "Epoch: 190 , Loss: nan\n",
      "Epoch: 200 , Loss: nan\n",
      "Epoch: 210 , Loss: nan\n",
      "Epoch: 220 , Loss: nan\n",
      "Epoch: 230 , Loss: nan\n",
      "Epoch: 240 , Loss: nan\n",
      "Epoch: 250 , Loss: nan\n",
      "Epoch: 260 , Loss: nan\n",
      "Epoch: 270 , Loss: nan\n",
      "Epoch: 280 , Loss: nan\n",
      "Epoch: 290 , Loss: nan\n",
      "Epoch: 300 , Loss: nan\n",
      "Epoch: 310 , Loss: nan\n",
      "Epoch: 320 , Loss: nan\n",
      "Epoch: 330 , Loss: nan\n",
      "Epoch: 340 , Loss: nan\n",
      "Epoch: 350 , Loss: nan\n",
      "Epoch: 360 , Loss: nan\n",
      "Epoch: 370 , Loss: nan\n",
      "Epoch: 380 , Loss: nan\n",
      "Epoch: 390 , Loss: nan\n",
      "Epoch: 400 , Loss: nan\n",
      "Epoch: 410 , Loss: nan\n",
      "Epoch: 420 , Loss: nan\n",
      "Epoch: 430 , Loss: nan\n",
      "Epoch: 440 , Loss: nan\n",
      "Epoch: 450 , Loss: nan\n",
      "Epoch: 460 , Loss: nan\n",
      "Epoch: 470 , Loss: nan\n",
      "Epoch: 480 , Loss: nan\n",
      "Epoch: 490 , Loss: nan\n",
      "Epoch: 500 , Loss: nan\n",
      "Epoch: 510 , Loss: nan\n",
      "Epoch: 520 , Loss: nan\n",
      "Epoch: 530 , Loss: nan\n",
      "Epoch: 540 , Loss: nan\n",
      "Epoch: 550 , Loss: nan\n",
      "Epoch: 560 , Loss: nan\n",
      "Epoch: 570 , Loss: nan\n",
      "Epoch: 580 , Loss: nan\n",
      "Epoch: 590 , Loss: nan\n",
      "Epoch: 600 , Loss: nan\n",
      "Epoch: 610 , Loss: nan\n",
      "Epoch: 620 , Loss: nan\n",
      "Epoch: 630 , Loss: nan\n",
      "Epoch: 640 , Loss: nan\n",
      "Epoch: 650 , Loss: nan\n",
      "Epoch: 660 , Loss: nan\n",
      "Epoch: 670 , Loss: nan\n",
      "Epoch: 680 , Loss: nan\n",
      "Epoch: 690 , Loss: nan\n",
      "Epoch: 700 , Loss: nan\n",
      "Epoch: 710 , Loss: nan\n",
      "Epoch: 720 , Loss: nan\n",
      "Epoch: 730 , Loss: nan\n",
      "Epoch: 740 , Loss: nan\n",
      "Epoch: 750 , Loss: nan\n",
      "Epoch: 760 , Loss: nan\n",
      "Epoch: 770 , Loss: nan\n",
      "Epoch: 780 , Loss: nan\n",
      "Epoch: 790 , Loss: nan\n",
      "Epoch: 800 , Loss: nan\n",
      "Epoch: 810 , Loss: nan\n",
      "Epoch: 820 , Loss: nan\n",
      "Epoch: 830 , Loss: nan\n",
      "Epoch: 840 , Loss: nan\n",
      "Epoch: 850 , Loss: nan\n",
      "Epoch: 860 , Loss: nan\n",
      "Epoch: 870 , Loss: nan\n",
      "Epoch: 880 , Loss: nan\n",
      "Epoch: 890 , Loss: nan\n",
      "Epoch: 900 , Loss: nan\n",
      "Epoch: 910 , Loss: nan\n",
      "Epoch: 920 , Loss: nan\n",
      "Epoch: 930 , Loss: nan\n",
      "Epoch: 940 , Loss: nan\n",
      "Epoch: 950 , Loss: nan\n",
      "Epoch: 960 , Loss: nan\n",
      "Epoch: 970 , Loss: nan\n",
      "Epoch: 980 , Loss: nan\n",
      "Epoch: 990 , Loss: nan\n"
     ]
    }
   ],
   "source": [
    "epochs = 1000\n",
    "\n",
    "losses = []\n",
    "for i in range(epochs):\n",
    "    y_pred = model(X)\n",
    "    loss = torch.sqrt(loss_fn(y_pred,y))\n",
    "    losses.append(loss.detach().numpy())\n",
    "    \n",
    "    if i%10==0:\n",
    "        print(\"Epoch: {} , Loss: {}\".format(i,loss))\n",
    "\n",
    "    \n",
    "    optimiser.zero_grad()\n",
    "    loss.backward()\n",
    "    optimiser.step()"
   ]
  },
  {
   "cell_type": "code",
   "execution_count": null,
   "metadata": {},
   "outputs": [],
   "source": []
  }
 ],
 "metadata": {
  "kernelspec": {
   "display_name": "Python 3",
   "language": "python",
   "name": "python3"
  },
  "language_info": {
   "codemirror_mode": {
    "name": "ipython",
    "version": 3
   },
   "file_extension": ".py",
   "mimetype": "text/x-python",
   "name": "python",
   "nbconvert_exporter": "python",
   "pygments_lexer": "ipython3",
   "version": "3.10.12"
  }
 },
 "nbformat": 4,
 "nbformat_minor": 2
}
