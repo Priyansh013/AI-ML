{
 "cells": [
  {
   "cell_type": "markdown",
   "metadata": {},
   "source": [
    "# Importing libraries and Datasets"
   ]
  },
  {
   "cell_type": "code",
   "execution_count": 550,
   "metadata": {},
   "outputs": [],
   "source": [
    "import pandas as pd\n",
    "import torch\n",
    "import numpy as np\n",
    "import torch.nn as nn\n",
    "import torch.nn.functional as F\n",
    "import matplotlib.pyplot as plt\n",
    "%matplotlib inline\n",
    "from sklearn.model_selection import train_test_split\n",
    "from sklearn.metrics import confusion_matrix\n",
    "from sklearn.metrics import accuracy_score\n",
    "from sklearn.preprocessing import LabelEncoder\n",
    "import seaborn as sns\n",
    "import datetime\n"
   ]
  },
  {
   "cell_type": "code",
   "execution_count": 551,
   "metadata": {},
   "outputs": [],
   "source": [
    "df = pd.read_csv(\"houses.csv\", usecols=[\"SalePrice\",\"MSSubClass\",\"MSZoning\",\"LotFrontage\",\"LotArea\",\"Street\",\"YearBuilt\",\"LotShape\",\"1stFlrSF\",\"2ndFlrSF\"]).dropna()"
   ]
  },
  {
   "cell_type": "code",
   "execution_count": 552,
   "metadata": {},
   "outputs": [
    {
     "data": {
      "text/plain": [
       "(1201, 10)"
      ]
     },
     "execution_count": 552,
     "metadata": {},
     "output_type": "execute_result"
    }
   ],
   "source": [
    "df.shape"
   ]
  },
  {
   "cell_type": "code",
   "execution_count": 553,
   "metadata": {},
   "outputs": [
    {
     "data": {
      "text/html": [
       "<div>\n",
       "<style scoped>\n",
       "    .dataframe tbody tr th:only-of-type {\n",
       "        vertical-align: middle;\n",
       "    }\n",
       "\n",
       "    .dataframe tbody tr th {\n",
       "        vertical-align: top;\n",
       "    }\n",
       "\n",
       "    .dataframe thead th {\n",
       "        text-align: right;\n",
       "    }\n",
       "</style>\n",
       "<table border=\"1\" class=\"dataframe\">\n",
       "  <thead>\n",
       "    <tr style=\"text-align: right;\">\n",
       "      <th></th>\n",
       "      <th>MSSubClass</th>\n",
       "      <th>MSZoning</th>\n",
       "      <th>LotFrontage</th>\n",
       "      <th>LotArea</th>\n",
       "      <th>Street</th>\n",
       "      <th>LotShape</th>\n",
       "      <th>YearBuilt</th>\n",
       "      <th>1stFlrSF</th>\n",
       "      <th>2ndFlrSF</th>\n",
       "      <th>SalePrice</th>\n",
       "    </tr>\n",
       "  </thead>\n",
       "  <tbody>\n",
       "    <tr>\n",
       "      <th>0</th>\n",
       "      <td>60</td>\n",
       "      <td>RL</td>\n",
       "      <td>65.0</td>\n",
       "      <td>8450</td>\n",
       "      <td>Pave</td>\n",
       "      <td>Reg</td>\n",
       "      <td>2003</td>\n",
       "      <td>856</td>\n",
       "      <td>854</td>\n",
       "      <td>208500</td>\n",
       "    </tr>\n",
       "    <tr>\n",
       "      <th>1</th>\n",
       "      <td>20</td>\n",
       "      <td>RL</td>\n",
       "      <td>80.0</td>\n",
       "      <td>9600</td>\n",
       "      <td>Pave</td>\n",
       "      <td>Reg</td>\n",
       "      <td>1976</td>\n",
       "      <td>1262</td>\n",
       "      <td>0</td>\n",
       "      <td>181500</td>\n",
       "    </tr>\n",
       "    <tr>\n",
       "      <th>2</th>\n",
       "      <td>60</td>\n",
       "      <td>RL</td>\n",
       "      <td>68.0</td>\n",
       "      <td>11250</td>\n",
       "      <td>Pave</td>\n",
       "      <td>IR1</td>\n",
       "      <td>2001</td>\n",
       "      <td>920</td>\n",
       "      <td>866</td>\n",
       "      <td>223500</td>\n",
       "    </tr>\n",
       "    <tr>\n",
       "      <th>3</th>\n",
       "      <td>70</td>\n",
       "      <td>RL</td>\n",
       "      <td>60.0</td>\n",
       "      <td>9550</td>\n",
       "      <td>Pave</td>\n",
       "      <td>IR1</td>\n",
       "      <td>1915</td>\n",
       "      <td>961</td>\n",
       "      <td>756</td>\n",
       "      <td>140000</td>\n",
       "    </tr>\n",
       "    <tr>\n",
       "      <th>4</th>\n",
       "      <td>60</td>\n",
       "      <td>RL</td>\n",
       "      <td>84.0</td>\n",
       "      <td>14260</td>\n",
       "      <td>Pave</td>\n",
       "      <td>IR1</td>\n",
       "      <td>2000</td>\n",
       "      <td>1145</td>\n",
       "      <td>1053</td>\n",
       "      <td>250000</td>\n",
       "    </tr>\n",
       "  </tbody>\n",
       "</table>\n",
       "</div>"
      ],
      "text/plain": [
       "   MSSubClass MSZoning  LotFrontage  LotArea Street LotShape  YearBuilt  \\\n",
       "0          60       RL         65.0     8450   Pave      Reg       2003   \n",
       "1          20       RL         80.0     9600   Pave      Reg       1976   \n",
       "2          60       RL         68.0    11250   Pave      IR1       2001   \n",
       "3          70       RL         60.0     9550   Pave      IR1       1915   \n",
       "4          60       RL         84.0    14260   Pave      IR1       2000   \n",
       "\n",
       "   1stFlrSF  2ndFlrSF  SalePrice  \n",
       "0       856       854     208500  \n",
       "1      1262         0     181500  \n",
       "2       920       866     223500  \n",
       "3       961       756     140000  \n",
       "4      1145      1053     250000  "
      ]
     },
     "execution_count": 553,
     "metadata": {},
     "output_type": "execute_result"
    }
   ],
   "source": [
    "df.head()"
   ]
  },
  {
   "cell_type": "code",
   "execution_count": 554,
   "metadata": {},
   "outputs": [
    {
     "name": "stdout",
     "output_type": "stream",
     "text": [
      "<class 'pandas.core.frame.DataFrame'>\n",
      "Index: 1201 entries, 0 to 1459\n",
      "Data columns (total 10 columns):\n",
      " #   Column       Non-Null Count  Dtype  \n",
      "---  ------       --------------  -----  \n",
      " 0   MSSubClass   1201 non-null   int64  \n",
      " 1   MSZoning     1201 non-null   object \n",
      " 2   LotFrontage  1201 non-null   float64\n",
      " 3   LotArea      1201 non-null   int64  \n",
      " 4   Street       1201 non-null   object \n",
      " 5   LotShape     1201 non-null   object \n",
      " 6   YearBuilt    1201 non-null   int64  \n",
      " 7   1stFlrSF     1201 non-null   int64  \n",
      " 8   2ndFlrSF     1201 non-null   int64  \n",
      " 9   SalePrice    1201 non-null   int64  \n",
      "dtypes: float64(1), int64(6), object(3)\n",
      "memory usage: 103.2+ KB\n"
     ]
    }
   ],
   "source": [
    "df.info()"
   ]
  },
  {
   "cell_type": "code",
   "execution_count": 555,
   "metadata": {},
   "outputs": [
    {
     "name": "stdout",
     "output_type": "stream",
     "text": [
      "Column Name: MSSubClass and unique values: 15\n",
      "Column Name: MSZoning and unique values: 5\n",
      "Column Name: LotFrontage and unique values: 110\n",
      "Column Name: LotArea and unique values: 869\n",
      "Column Name: Street and unique values: 2\n",
      "Column Name: LotShape and unique values: 4\n",
      "Column Name: YearBuilt and unique values: 112\n",
      "Column Name: 1stFlrSF and unique values: 678\n",
      "Column Name: 2ndFlrSF and unique values: 368\n",
      "Column Name: SalePrice and unique values: 597\n"
     ]
    }
   ],
   "source": [
    "for i in df.columns:\n",
    "    print(\"Column Name: {} and unique values: {}\". format(i, len(df[i].unique())))"
   ]
  },
  {
   "cell_type": "markdown",
   "metadata": {},
   "source": [
    "### ~All the features that have limited variations in their values have to be converted into categorical data"
   ]
  },
  {
   "cell_type": "code",
   "execution_count": 556,
   "metadata": {},
   "outputs": [
    {
     "data": {
      "text/plain": [
       "2024"
      ]
     },
     "execution_count": 556,
     "metadata": {},
     "output_type": "execute_result"
    }
   ],
   "source": [
    "datetime.datetime.now().year"
   ]
  },
  {
   "cell_type": "code",
   "execution_count": 557,
   "metadata": {},
   "outputs": [],
   "source": [
    "df['Total_Years'] = datetime.datetime.now().year - df[\"YearBuilt\"]\n"
   ]
  },
  {
   "cell_type": "code",
   "execution_count": 558,
   "metadata": {},
   "outputs": [],
   "source": [
    "df.drop(\"YearBuilt\",axis = 1,inplace=True)"
   ]
  },
  {
   "cell_type": "code",
   "execution_count": 559,
   "metadata": {},
   "outputs": [
    {
     "data": {
      "text/plain": [
       "Index(['MSSubClass', 'MSZoning', 'LotFrontage', 'LotArea', 'Street',\n",
       "       'LotShape', '1stFlrSF', '2ndFlrSF', 'SalePrice', 'Total_Years'],\n",
       "      dtype='object')"
      ]
     },
     "execution_count": 559,
     "metadata": {},
     "output_type": "execute_result"
    }
   ],
   "source": [
    "df.columns"
   ]
  },
  {
   "cell_type": "code",
   "execution_count": 560,
   "metadata": {},
   "outputs": [
    {
     "data": {
      "text/html": [
       "<div>\n",
       "<style scoped>\n",
       "    .dataframe tbody tr th:only-of-type {\n",
       "        vertical-align: middle;\n",
       "    }\n",
       "\n",
       "    .dataframe tbody tr th {\n",
       "        vertical-align: top;\n",
       "    }\n",
       "\n",
       "    .dataframe thead th {\n",
       "        text-align: right;\n",
       "    }\n",
       "</style>\n",
       "<table border=\"1\" class=\"dataframe\">\n",
       "  <thead>\n",
       "    <tr style=\"text-align: right;\">\n",
       "      <th></th>\n",
       "      <th>MSSubClass</th>\n",
       "      <th>MSZoning</th>\n",
       "      <th>LotFrontage</th>\n",
       "      <th>LotArea</th>\n",
       "      <th>Street</th>\n",
       "      <th>LotShape</th>\n",
       "      <th>1stFlrSF</th>\n",
       "      <th>2ndFlrSF</th>\n",
       "      <th>SalePrice</th>\n",
       "      <th>Total_Years</th>\n",
       "    </tr>\n",
       "  </thead>\n",
       "  <tbody>\n",
       "    <tr>\n",
       "      <th>0</th>\n",
       "      <td>60</td>\n",
       "      <td>RL</td>\n",
       "      <td>65.0</td>\n",
       "      <td>8450</td>\n",
       "      <td>Pave</td>\n",
       "      <td>Reg</td>\n",
       "      <td>856</td>\n",
       "      <td>854</td>\n",
       "      <td>208500</td>\n",
       "      <td>21</td>\n",
       "    </tr>\n",
       "    <tr>\n",
       "      <th>1</th>\n",
       "      <td>20</td>\n",
       "      <td>RL</td>\n",
       "      <td>80.0</td>\n",
       "      <td>9600</td>\n",
       "      <td>Pave</td>\n",
       "      <td>Reg</td>\n",
       "      <td>1262</td>\n",
       "      <td>0</td>\n",
       "      <td>181500</td>\n",
       "      <td>48</td>\n",
       "    </tr>\n",
       "    <tr>\n",
       "      <th>2</th>\n",
       "      <td>60</td>\n",
       "      <td>RL</td>\n",
       "      <td>68.0</td>\n",
       "      <td>11250</td>\n",
       "      <td>Pave</td>\n",
       "      <td>IR1</td>\n",
       "      <td>920</td>\n",
       "      <td>866</td>\n",
       "      <td>223500</td>\n",
       "      <td>23</td>\n",
       "    </tr>\n",
       "    <tr>\n",
       "      <th>3</th>\n",
       "      <td>70</td>\n",
       "      <td>RL</td>\n",
       "      <td>60.0</td>\n",
       "      <td>9550</td>\n",
       "      <td>Pave</td>\n",
       "      <td>IR1</td>\n",
       "      <td>961</td>\n",
       "      <td>756</td>\n",
       "      <td>140000</td>\n",
       "      <td>109</td>\n",
       "    </tr>\n",
       "    <tr>\n",
       "      <th>4</th>\n",
       "      <td>60</td>\n",
       "      <td>RL</td>\n",
       "      <td>84.0</td>\n",
       "      <td>14260</td>\n",
       "      <td>Pave</td>\n",
       "      <td>IR1</td>\n",
       "      <td>1145</td>\n",
       "      <td>1053</td>\n",
       "      <td>250000</td>\n",
       "      <td>24</td>\n",
       "    </tr>\n",
       "  </tbody>\n",
       "</table>\n",
       "</div>"
      ],
      "text/plain": [
       "   MSSubClass MSZoning  LotFrontage  LotArea Street LotShape  1stFlrSF  \\\n",
       "0          60       RL         65.0     8450   Pave      Reg       856   \n",
       "1          20       RL         80.0     9600   Pave      Reg      1262   \n",
       "2          60       RL         68.0    11250   Pave      IR1       920   \n",
       "3          70       RL         60.0     9550   Pave      IR1       961   \n",
       "4          60       RL         84.0    14260   Pave      IR1      1145   \n",
       "\n",
       "   2ndFlrSF  SalePrice  Total_Years  \n",
       "0       854     208500           21  \n",
       "1         0     181500           48  \n",
       "2       866     223500           23  \n",
       "3       756     140000          109  \n",
       "4      1053     250000           24  "
      ]
     },
     "execution_count": 560,
     "metadata": {},
     "output_type": "execute_result"
    }
   ],
   "source": [
    "df.head()"
   ]
  },
  {
   "cell_type": "markdown",
   "metadata": {},
   "source": [
    "### ~Applying Label Encoding"
   ]
  },
  {
   "cell_type": "code",
   "execution_count": 561,
   "metadata": {},
   "outputs": [],
   "source": [
    "# Creating Categorcal Data\n",
    "cat_features = ['MSSubClass', 'MSZoning','Street','LotShape']\n",
    "out_feature = \"SalePrice\""
   ]
  },
  {
   "cell_type": "code",
   "execution_count": 562,
   "metadata": {},
   "outputs": [
    {
     "data": {
      "text/plain": [
       "array([5, 0, 5, ..., 6, 0, 0])"
      ]
     },
     "execution_count": 562,
     "metadata": {},
     "output_type": "execute_result"
    }
   ],
   "source": [
    "lbl_encoders={} \n",
    "lbl_encoders[\"MSSubClass\"] = LabelEncoder() \n",
    "lbl_encoders[\"MSSubClass\"].fit_transform(df[\"MSSubClass\"])"
   ]
  },
  {
   "cell_type": "code",
   "execution_count": 563,
   "metadata": {},
   "outputs": [],
   "source": [
    "lbl_encoders={} \n",
    "for feature in cat_features:\n",
    "    lbl_encoders[feature] = LabelEncoder()\n",
    "    df[feature] = lbl_encoders[feature].fit_transform(df[feature])"
   ]
  },
  {
   "cell_type": "code",
   "execution_count": 564,
   "metadata": {},
   "outputs": [
    {
     "data": {
      "text/html": [
       "<div>\n",
       "<style scoped>\n",
       "    .dataframe tbody tr th:only-of-type {\n",
       "        vertical-align: middle;\n",
       "    }\n",
       "\n",
       "    .dataframe tbody tr th {\n",
       "        vertical-align: top;\n",
       "    }\n",
       "\n",
       "    .dataframe thead th {\n",
       "        text-align: right;\n",
       "    }\n",
       "</style>\n",
       "<table border=\"1\" class=\"dataframe\">\n",
       "  <thead>\n",
       "    <tr style=\"text-align: right;\">\n",
       "      <th></th>\n",
       "      <th>MSSubClass</th>\n",
       "      <th>MSZoning</th>\n",
       "      <th>LotFrontage</th>\n",
       "      <th>LotArea</th>\n",
       "      <th>Street</th>\n",
       "      <th>LotShape</th>\n",
       "      <th>1stFlrSF</th>\n",
       "      <th>2ndFlrSF</th>\n",
       "      <th>SalePrice</th>\n",
       "      <th>Total_Years</th>\n",
       "    </tr>\n",
       "  </thead>\n",
       "  <tbody>\n",
       "    <tr>\n",
       "      <th>0</th>\n",
       "      <td>5</td>\n",
       "      <td>3</td>\n",
       "      <td>65.0</td>\n",
       "      <td>8450</td>\n",
       "      <td>1</td>\n",
       "      <td>3</td>\n",
       "      <td>856</td>\n",
       "      <td>854</td>\n",
       "      <td>208500</td>\n",
       "      <td>21</td>\n",
       "    </tr>\n",
       "    <tr>\n",
       "      <th>1</th>\n",
       "      <td>0</td>\n",
       "      <td>3</td>\n",
       "      <td>80.0</td>\n",
       "      <td>9600</td>\n",
       "      <td>1</td>\n",
       "      <td>3</td>\n",
       "      <td>1262</td>\n",
       "      <td>0</td>\n",
       "      <td>181500</td>\n",
       "      <td>48</td>\n",
       "    </tr>\n",
       "    <tr>\n",
       "      <th>2</th>\n",
       "      <td>5</td>\n",
       "      <td>3</td>\n",
       "      <td>68.0</td>\n",
       "      <td>11250</td>\n",
       "      <td>1</td>\n",
       "      <td>0</td>\n",
       "      <td>920</td>\n",
       "      <td>866</td>\n",
       "      <td>223500</td>\n",
       "      <td>23</td>\n",
       "    </tr>\n",
       "    <tr>\n",
       "      <th>3</th>\n",
       "      <td>6</td>\n",
       "      <td>3</td>\n",
       "      <td>60.0</td>\n",
       "      <td>9550</td>\n",
       "      <td>1</td>\n",
       "      <td>0</td>\n",
       "      <td>961</td>\n",
       "      <td>756</td>\n",
       "      <td>140000</td>\n",
       "      <td>109</td>\n",
       "    </tr>\n",
       "    <tr>\n",
       "      <th>4</th>\n",
       "      <td>5</td>\n",
       "      <td>3</td>\n",
       "      <td>84.0</td>\n",
       "      <td>14260</td>\n",
       "      <td>1</td>\n",
       "      <td>0</td>\n",
       "      <td>1145</td>\n",
       "      <td>1053</td>\n",
       "      <td>250000</td>\n",
       "      <td>24</td>\n",
       "    </tr>\n",
       "  </tbody>\n",
       "</table>\n",
       "</div>"
      ],
      "text/plain": [
       "   MSSubClass  MSZoning  LotFrontage  LotArea  Street  LotShape  1stFlrSF  \\\n",
       "0           5         3         65.0     8450       1         3       856   \n",
       "1           0         3         80.0     9600       1         3      1262   \n",
       "2           5         3         68.0    11250       1         0       920   \n",
       "3           6         3         60.0     9550       1         0       961   \n",
       "4           5         3         84.0    14260       1         0      1145   \n",
       "\n",
       "   2ndFlrSF  SalePrice  Total_Years  \n",
       "0       854     208500           21  \n",
       "1         0     181500           48  \n",
       "2       866     223500           23  \n",
       "3       756     140000          109  \n",
       "4      1053     250000           24  "
      ]
     },
     "execution_count": 564,
     "metadata": {},
     "output_type": "execute_result"
    }
   ],
   "source": [
    "df.head()"
   ]
  },
  {
   "cell_type": "markdown",
   "metadata": {},
   "source": [
    "### ~Applying Embedding:"
   ]
  },
  {
   "cell_type": "code",
   "execution_count": 565,
   "metadata": {},
   "outputs": [
    {
     "data": {
      "text/plain": [
       "array([[5, 3, 1, 3],\n",
       "       [0, 3, 1, 3],\n",
       "       [5, 3, 1, 0],\n",
       "       ...,\n",
       "       [6, 3, 1, 3],\n",
       "       [0, 3, 1, 3],\n",
       "       [0, 3, 1, 3]])"
      ]
     },
     "execution_count": 565,
     "metadata": {},
     "output_type": "execute_result"
    }
   ],
   "source": [
    "## Stacking and COnverting into Tensors\n",
    "\n",
    "cat_features = np.stack([df['MSSubClass'], df['MSZoning'],df['Street'] , df['LotShape']] , axis=1)\n",
    "cat_features"
   ]
  },
  {
   "cell_type": "code",
   "execution_count": 566,
   "metadata": {},
   "outputs": [
    {
     "data": {
      "text/plain": [
       "tensor([[5, 3, 1, 3],\n",
       "        [0, 3, 1, 3],\n",
       "        [5, 3, 1, 0],\n",
       "        ...,\n",
       "        [6, 3, 1, 3],\n",
       "        [0, 3, 1, 3],\n",
       "        [0, 3, 1, 3]])"
      ]
     },
     "execution_count": 566,
     "metadata": {},
     "output_type": "execute_result"
    }
   ],
   "source": [
    "## COnvert numpy arrays to tensors\n",
    "\n",
    "cat_features = torch.tensor(cat_features, dtype=torch.int64)  # Very important to convert categorical data types into int date type.\n",
    "cat_features"
   ]
  },
  {
   "cell_type": "code",
   "execution_count": 567,
   "metadata": {},
   "outputs": [],
   "source": [
    "## Create Continuous Variables\n",
    "cont_feature = []\n",
    "\n",
    "for i in df.columns:\n",
    "    if i in ['MSSubClass', 'MSZoning','Street','LotShape','SalePrice']:\n",
    "        pass\n",
    "    else:\n",
    "        cont_feature.append(i)\n",
    "        \n"
   ]
  },
  {
   "cell_type": "code",
   "execution_count": 568,
   "metadata": {},
   "outputs": [
    {
     "data": {
      "text/plain": [
       "['LotFrontage', 'LotArea', '1stFlrSF', '2ndFlrSF', 'Total_Years']"
      ]
     },
     "execution_count": 568,
     "metadata": {},
     "output_type": "execute_result"
    }
   ],
   "source": [
    "cont_feature"
   ]
  },
  {
   "cell_type": "code",
   "execution_count": 569,
   "metadata": {},
   "outputs": [
    {
     "data": {
      "text/plain": [
       "tensor([[   65.,  8450.,   856.,   854.,    21.],\n",
       "        [   80.,  9600.,  1262.,     0.,    48.],\n",
       "        [   68., 11250.,   920.,   866.,    23.],\n",
       "        ...,\n",
       "        [   66.,  9042.,  1188.,  1152.,    83.],\n",
       "        [   68.,  9717.,  1078.,     0.,    74.],\n",
       "        [   75.,  9937.,  1256.,     0.,    59.]])"
      ]
     },
     "execution_count": 569,
     "metadata": {},
     "output_type": "execute_result"
    }
   ],
   "source": [
    "## Stacking Continuos Variables:\n",
    "cont_values = np.stack([df[i].values for i in cont_feature] , axis=1)\n",
    "cont_values = torch.tensor(cont_values , dtype=torch.float)\n",
    "cont_values"
   ]
  },
  {
   "cell_type": "code",
   "execution_count": 570,
   "metadata": {},
   "outputs": [
    {
     "data": {
      "text/plain": [
       "torch.float32"
      ]
     },
     "execution_count": 570,
     "metadata": {},
     "output_type": "execute_result"
    }
   ],
   "source": [
    "cont_values.dtype"
   ]
  },
  {
   "cell_type": "code",
   "execution_count": 571,
   "metadata": {},
   "outputs": [
    {
     "data": {
      "text/plain": [
       "tensor([[208500.],\n",
       "        [181500.],\n",
       "        [223500.],\n",
       "        ...,\n",
       "        [266500.],\n",
       "        [142125.],\n",
       "        [147500.]])"
      ]
     },
     "execution_count": 571,
     "metadata": {},
     "output_type": "execute_result"
    }
   ],
   "source": [
    "# Dependent Features:\n",
    "y = torch.tensor(df['SalePrice'].values, dtype=torch.float).reshape(-1,1)\n",
    "y"
   ]
  },
  {
   "cell_type": "code",
   "execution_count": 572,
   "metadata": {},
   "outputs": [
    {
     "name": "stdout",
     "output_type": "stream",
     "text": [
      "<class 'pandas.core.frame.DataFrame'>\n",
      "Index: 1201 entries, 0 to 1459\n",
      "Data columns (total 10 columns):\n",
      " #   Column       Non-Null Count  Dtype  \n",
      "---  ------       --------------  -----  \n",
      " 0   MSSubClass   1201 non-null   int64  \n",
      " 1   MSZoning     1201 non-null   int64  \n",
      " 2   LotFrontage  1201 non-null   float64\n",
      " 3   LotArea      1201 non-null   int64  \n",
      " 4   Street       1201 non-null   int64  \n",
      " 5   LotShape     1201 non-null   int64  \n",
      " 6   1stFlrSF     1201 non-null   int64  \n",
      " 7   2ndFlrSF     1201 non-null   int64  \n",
      " 8   SalePrice    1201 non-null   int64  \n",
      " 9   Total_Years  1201 non-null   int64  \n",
      "dtypes: float64(1), int64(9)\n",
      "memory usage: 103.2 KB\n"
     ]
    }
   ],
   "source": [
    "df.info()"
   ]
  },
  {
   "cell_type": "code",
   "execution_count": 573,
   "metadata": {},
   "outputs": [
    {
     "data": {
      "text/plain": [
       "(torch.Size([1201, 4]),\n",
       " torch.Size([1201, 5]),\n",
       " torch.Size([1201, 1]),\n",
       " (1201, 10))"
      ]
     },
     "execution_count": 573,
     "metadata": {},
     "output_type": "execute_result"
    }
   ],
   "source": [
    "cat_features.shape , cont_values.shape, y.shape, df.shape"
   ]
  },
  {
   "cell_type": "code",
   "execution_count": 574,
   "metadata": {},
   "outputs": [
    {
     "data": {
      "text/plain": [
       "15"
      ]
     },
     "execution_count": 574,
     "metadata": {},
     "output_type": "execute_result"
    }
   ],
   "source": [
    "len(df['MSSubClass'].unique())"
   ]
  },
  {
   "cell_type": "markdown",
   "metadata": {},
   "source": [
    "# Embedding:\n",
    "#### Each categories are converted to their feature vector representation using Embedded Matrix whose dimension is:\n",
    "##### By thumb rule : min(50, (x+1)//2) for Categorical Data Conversion but not for NLP applications."
   ]
  },
  {
   "cell_type": "code",
   "execution_count": 575,
   "metadata": {},
   "outputs": [],
   "source": [
    "## Embedding Size for Categorical Features:\n",
    "\n",
    "cat_dims = [(len(df[col].unique())) for col in ['MSSubClass', 'MSZoning','Street','LotShape']]"
   ]
  },
  {
   "cell_type": "code",
   "execution_count": 576,
   "metadata": {},
   "outputs": [
    {
     "data": {
      "text/plain": [
       "[15, 5, 2, 4]"
      ]
     },
     "execution_count": 576,
     "metadata": {},
     "output_type": "execute_result"
    }
   ],
   "source": [
    "cat_dims"
   ]
  },
  {
   "cell_type": "code",
   "execution_count": 577,
   "metadata": {},
   "outputs": [],
   "source": [
    "# Creating Embedded Vector dimensions using thumb rule\n",
    "\n",
    "embedding_dims = [(x, min(50,(x+1)//2)) for x in cat_dims]"
   ]
  },
  {
   "cell_type": "code",
   "execution_count": 578,
   "metadata": {},
   "outputs": [
    {
     "data": {
      "text/plain": [
       "[(15, 8), (5, 3), (2, 1), (4, 2)]"
      ]
     },
     "execution_count": 578,
     "metadata": {},
     "output_type": "execute_result"
    }
   ],
   "source": [
    "embedding_dims"
   ]
  },
  {
   "cell_type": "markdown",
   "metadata": {},
   "source": [
    "### CREATING ACTUAL EMBEDDING MATRIX: DOING WORD2VEC "
   ]
  },
  {
   "cell_type": "code",
   "execution_count": 579,
   "metadata": {},
   "outputs": [],
   "source": [
    "import torch\n",
    "import torch.nn as nn\n",
    "import torch.nn.functional as F\n"
   ]
  },
  {
   "cell_type": "code",
   "execution_count": 580,
   "metadata": {},
   "outputs": [
    {
     "data": {
      "text/plain": [
       "ModuleList(\n",
       "  (0): Embedding(15, 8)\n",
       "  (1): Embedding(5, 3)\n",
       "  (2): Embedding(2, 1)\n",
       "  (3): Embedding(4, 2)\n",
       ")"
      ]
     },
     "execution_count": 580,
     "metadata": {},
     "output_type": "execute_result"
    }
   ],
   "source": [
    "embed_representation = nn.ModuleList([nn.Embedding(inp,out) for inp,out in embedding_dims])\n",
    "embed_representation"
   ]
  },
  {
   "cell_type": "code",
   "execution_count": 581,
   "metadata": {},
   "outputs": [
    {
     "data": {
      "text/plain": [
       "tensor([[5, 3, 1, 3],\n",
       "        [0, 3, 1, 3],\n",
       "        [5, 3, 1, 0],\n",
       "        [6, 3, 1, 0]])"
      ]
     },
     "execution_count": 581,
     "metadata": {},
     "output_type": "execute_result"
    }
   ],
   "source": [
    "cat_featuresz = cat_features[:4]\n",
    "cat_featuresz"
   ]
  },
  {
   "cell_type": "code",
   "execution_count": 582,
   "metadata": {},
   "outputs": [],
   "source": [
    "# ACTUAL EMBEDDING FUNCTION:\n",
    "\n",
    "pd.set_option('display.max_rows',500)\n",
    "embedding_val = []\n",
    "for i,e in enumerate(embed_representation):\n",
    "    embedding_val.append(e(cat_featuresz[:,i]))"
   ]
  },
  {
   "cell_type": "code",
   "execution_count": 583,
   "metadata": {},
   "outputs": [
    {
     "data": {
      "text/plain": [
       "[tensor([[ 0.1451, -0.3495, -0.8158,  0.2591, -1.2562,  0.1551, -0.8206,  0.7307],\n",
       "         [ 0.5525,  0.5280,  0.3909, -0.3355, -1.1324,  0.6381,  0.7725,  1.0573],\n",
       "         [ 0.1451, -0.3495, -0.8158,  0.2591, -1.2562,  0.1551, -0.8206,  0.7307],\n",
       "         [-0.0940, -0.7077,  1.0688,  0.0086, -0.0728,  1.0848, -1.3235,  0.2868]],\n",
       "        grad_fn=<EmbeddingBackward0>),\n",
       " tensor([[ 0.7823, -1.5325,  0.2879],\n",
       "         [ 0.7823, -1.5325,  0.2879],\n",
       "         [ 0.7823, -1.5325,  0.2879],\n",
       "         [ 0.7823, -1.5325,  0.2879]], grad_fn=<EmbeddingBackward0>),\n",
       " tensor([[-0.7821],\n",
       "         [-0.7821],\n",
       "         [-0.7821],\n",
       "         [-0.7821]], grad_fn=<EmbeddingBackward0>),\n",
       " tensor([[-0.3214, -0.2320],\n",
       "         [-0.3214, -0.2320],\n",
       "         [ 1.2019, -0.3540],\n",
       "         [ 1.2019, -0.3540]], grad_fn=<EmbeddingBackward0>)]"
      ]
     },
     "execution_count": 583,
     "metadata": {},
     "output_type": "execute_result"
    }
   ],
   "source": [
    "embedding_val"
   ]
  },
  {
   "cell_type": "code",
   "execution_count": 584,
   "metadata": {},
   "outputs": [
    {
     "data": {
      "text/plain": [
       "tensor([[ 0.1451, -0.3495, -0.8158,  0.2591, -1.2562,  0.1551, -0.8206,  0.7307,\n",
       "          0.7823, -1.5325,  0.2879, -0.7821, -0.3214, -0.2320],\n",
       "        [ 0.5525,  0.5280,  0.3909, -0.3355, -1.1324,  0.6381,  0.7725,  1.0573,\n",
       "          0.7823, -1.5325,  0.2879, -0.7821, -0.3214, -0.2320],\n",
       "        [ 0.1451, -0.3495, -0.8158,  0.2591, -1.2562,  0.1551, -0.8206,  0.7307,\n",
       "          0.7823, -1.5325,  0.2879, -0.7821,  1.2019, -0.3540],\n",
       "        [-0.0940, -0.7077,  1.0688,  0.0086, -0.0728,  1.0848, -1.3235,  0.2868,\n",
       "          0.7823, -1.5325,  0.2879, -0.7821,  1.2019, -0.3540]],\n",
       "       grad_fn=<CatBackward0>)"
      ]
     },
     "execution_count": 584,
     "metadata": {},
     "output_type": "execute_result"
    }
   ],
   "source": [
    "z = torch.cat(embedding_val,1)\n",
    "z"
   ]
  },
  {
   "cell_type": "code",
   "execution_count": 585,
   "metadata": {},
   "outputs": [],
   "source": [
    "## Implement Dropout:\n",
    "dropout = nn.Dropout(.4)"
   ]
  },
  {
   "cell_type": "code",
   "execution_count": 586,
   "metadata": {},
   "outputs": [
    {
     "data": {
      "text/plain": [
       "tensor([[ 0.2419, -0.5824, -0.0000,  0.4319, -0.0000,  0.0000, -1.3676,  0.0000,\n",
       "          1.3039, -0.0000,  0.4799, -1.3035, -0.5357, -0.3866],\n",
       "        [ 0.9209,  0.8799,  0.6514, -0.0000, -0.0000,  1.0635,  1.2874,  1.7622,\n",
       "          1.3039, -2.5542,  0.4799, -0.0000, -0.0000, -0.0000],\n",
       "        [ 0.2419, -0.0000, -0.0000,  0.4319, -2.0937,  0.2585, -1.3676,  1.2179,\n",
       "          0.0000, -0.0000,  0.4799, -1.3035,  2.0032, -0.5900],\n",
       "        [-0.1567, -1.1795,  1.7813,  0.0144, -0.0000,  1.8080, -2.2058,  0.0000,\n",
       "          0.0000, -2.5542,  0.0000, -0.0000,  0.0000, -0.0000]],\n",
       "       grad_fn=<MulBackward0>)"
      ]
     },
     "execution_count": 586,
     "metadata": {},
     "output_type": "execute_result"
    }
   ],
   "source": [
    "final_embed = dropout(z)\n",
    "final_embed "
   ]
  },
  {
   "cell_type": "markdown",
   "metadata": {},
   "source": [
    "#### Creating Neural Network:"
   ]
  },
  {
   "cell_type": "code",
   "execution_count": 587,
   "metadata": {},
   "outputs": [],
   "source": [
    "class FeedForwardNN(nn.Module):\n",
    "    def __init__(self, embedding_dims,n_cont, out_sz, layers , p =0.5 ):\n",
    "        # embedding_dims : Dimensions of all the embedding layers to be performed\n",
    "        # n_cont: Number of features with continuos values\n",
    "        # out_sz : Number of Output features\n",
    "        # layers: list containing number of neurons in hidden layers\n",
    "        # p: dropout probability \n",
    "        super().__init__()\n",
    "        self.embds = nn.ModuleList([nn.Embedding(inp,out) for inp,out in embedding_dims])   # Discussed Earlier\n",
    "        self.emb_dropout = nn.Dropout(p) # To apply Dorpout\n",
    "        self.batch_norm_cont = nn.BatchNorm1d(n_cont)   # To apply Normalisation to Continuous Values since they are very large\n",
    "        \n",
    "        \n",
    "        layerlist = []\n",
    "        n_emb = sum((out for inp,out in embedding_dims))\n",
    "        n_in = n_emb + n_cont\n",
    "        # For the input size : n_in,\n",
    "        # n_cont : denotes number of continuos features\n",
    "        # n_emb: denotes total number of features we we get after performing embedding on categorical features\n",
    "            \n",
    "        for i in layers:\n",
    "            layerlist.append(nn.Linear(n_in,i))\n",
    "            layerlist.append(nn.ReLU(inplace=True))\n",
    "            layerlist.append(nn.BatchNorm1d(i))\n",
    "            layerlist.append(nn.Dropout(p))\n",
    "            n_in = i\n",
    "        layerlist.append(nn.Linear(layers[-1],out_sz))\n",
    "            \n",
    "            \n",
    "        self.layers = nn.Sequential(*layerlist)\n",
    "        # Initially layers was a list containing just list of number of neurons in the hidden layers , but now it is a complete module in itself.\n",
    "        # nn.Sequential() : stores multiple modules and run them in sequence. It takes as arguments all the modules it has to run in sequence, hence * before layerlist.\n",
    "        # *layerlist: unpacks all the list/tuple items because this is how Sequential() takes arguments.\n",
    "        \n",
    "    def forward(self, x_cat, x_cont):\n",
    "        embedding = []\n",
    "        for i,e in enumerate(self.embds):\n",
    "            embedding.append(e(x_cat[:,i]))\n",
    "        x = torch.cat(embedding,axis=1)\n",
    "        x = torch.cat([x,x_cont],axis = 1)\n",
    "        x = self.layers(x)\n",
    "        return x"
   ]
  },
  {
   "cell_type": "code",
   "execution_count": 588,
   "metadata": {},
   "outputs": [
    {
     "data": {
      "text/plain": [
       "5"
      ]
     },
     "execution_count": 588,
     "metadata": {},
     "output_type": "execute_result"
    }
   ],
   "source": [
    "len(cont_feature)"
   ]
  },
  {
   "cell_type": "code",
   "execution_count": 589,
   "metadata": {},
   "outputs": [],
   "source": [
    "# Instantiate model:\n",
    "\n",
    "torch.manual_seed(100)\n",
    "model = FeedForwardNN(embedding_dims,len(cont_feature),1,[100,50],p=0.4)"
   ]
  },
  {
   "cell_type": "code",
   "execution_count": 590,
   "metadata": {},
   "outputs": [
    {
     "data": {
      "text/plain": [
       "FeedForwardNN(\n",
       "  (embds): ModuleList(\n",
       "    (0): Embedding(15, 8)\n",
       "    (1): Embedding(5, 3)\n",
       "    (2): Embedding(2, 1)\n",
       "    (3): Embedding(4, 2)\n",
       "  )\n",
       "  (emb_dropout): Dropout(p=0.4, inplace=False)\n",
       "  (batch_norm_cont): BatchNorm1d(5, eps=1e-05, momentum=0.1, affine=True, track_running_stats=True)\n",
       "  (layers): Sequential(\n",
       "    (0): Linear(in_features=19, out_features=200, bias=True)\n",
       "    (1): ReLU(inplace=True)\n",
       "    (2): BatchNorm1d(200, eps=1e-05, momentum=0.1, affine=True, track_running_stats=True)\n",
       "    (3): Dropout(p=0.4, inplace=False)\n",
       "    (4): Linear(in_features=200, out_features=100, bias=True)\n",
       "    (5): ReLU(inplace=True)\n",
       "    (6): BatchNorm1d(100, eps=1e-05, momentum=0.1, affine=True, track_running_stats=True)\n",
       "    (7): Dropout(p=0.4, inplace=False)\n",
       "    (8): Linear(in_features=100, out_features=50, bias=True)\n",
       "    (9): ReLU(inplace=True)\n",
       "    (10): BatchNorm1d(50, eps=1e-05, momentum=0.1, affine=True, track_running_stats=True)\n",
       "    (11): Dropout(p=0.4, inplace=False)\n",
       "    (12): Linear(in_features=50, out_features=1, bias=True)\n",
       "  )\n",
       ")"
      ]
     },
     "execution_count": 590,
     "metadata": {},
     "output_type": "execute_result"
    }
   ],
   "source": [
    "model"
   ]
  },
  {
   "cell_type": "markdown",
   "metadata": {},
   "source": [
    "### Defining Loss Function and Optimiser:\n"
   ]
  },
  {
   "cell_type": "code",
   "execution_count": 591,
   "metadata": {},
   "outputs": [],
   "source": [
    "loss_function = nn.MSELoss()     # Later on will be converted to RMSE by taking square root\n",
    "optimiser = torch.optim.Adam(model.parameters(), lr=0.01)"
   ]
  },
  {
   "cell_type": "code",
   "execution_count": 592,
   "metadata": {},
   "outputs": [
    {
     "data": {
      "text/plain": [
       "(torch.Size([1201, 4]), torch.Size([1201, 5]))"
      ]
     },
     "execution_count": 592,
     "metadata": {},
     "output_type": "execute_result"
    }
   ],
   "source": [
    "cat_features.shape , cont_values.shape"
   ]
  },
  {
   "cell_type": "code",
   "execution_count": 593,
   "metadata": {},
   "outputs": [],
   "source": [
    "# Creating Train-Test Split\n",
    "\n",
    "batch_size = 1200\n",
    "test_size = int(batch_size* 0.15)\n",
    "\n",
    "train_categorical_data = cat_features[:batch_size-test_size]\n",
    "test_categorical_data = cat_features[batch_size-test_size:batch_size]\n",
    "train_cont = cont_values[:batch_size-test_size]\n",
    "test_cont = cont_values[batch_size-test_size:batch_size]\n",
    "y_train = y[:batch_size-test_size]\n",
    "y_test = y[batch_size-test_size:batch_size] "
   ]
  },
  {
   "cell_type": "code",
   "execution_count": 594,
   "metadata": {},
   "outputs": [
    {
     "data": {
      "text/plain": [
       "(torch.Size([1020, 4]),\n",
       " torch.Size([180, 4]),\n",
       " torch.Size([1020, 5]),\n",
       " torch.Size([180, 5]),\n",
       " torch.Size([1020, 1]),\n",
       " torch.Size([180, 1]))"
      ]
     },
     "execution_count": 594,
     "metadata": {},
     "output_type": "execute_result"
    }
   ],
   "source": [
    "train_categorical_data.shape , test_categorical_data.shape , train_cont.shape , test_cont.shape, y_train.shape , y_test.shape"
   ]
  },
  {
   "cell_type": "code",
   "execution_count": 595,
   "metadata": {},
   "outputs": [
    {
     "name": "stdout",
     "output_type": "stream",
     "text": [
      "Epoch: 0 , Loss: 200496.78125\n",
      "Epoch: 100 , Loss: 200356.0\n",
      "Epoch: 200 , Loss: 199890.09375\n",
      "Epoch: 300 , Loss: 199067.96875\n"
     ]
    },
    {
     "name": "stdout",
     "output_type": "stream",
     "text": [
      "Epoch: 400 , Loss: 197877.90625\n",
      "Epoch: 500 , Loss: 196415.46875\n",
      "Epoch: 600 , Loss: 194526.8125\n",
      "Epoch: 700 , Loss: 192407.0\n",
      "Epoch: 800 , Loss: 190102.296875\n",
      "Epoch: 900 , Loss: 187469.5\n",
      "Epoch: 1000 , Loss: 184614.671875\n",
      "Epoch: 1100 , Loss: 181290.34375\n",
      "Epoch: 1200 , Loss: 177970.890625\n",
      "Epoch: 1300 , Loss: 174037.1875\n",
      "Epoch: 1400 , Loss: 170830.953125\n",
      "Epoch: 1500 , Loss: 166587.109375\n",
      "Epoch: 1600 , Loss: 162727.265625\n",
      "Epoch: 1700 , Loss: 158118.21875\n",
      "Epoch: 1800 , Loss: 154796.8125\n",
      "Epoch: 1900 , Loss: 150141.625\n",
      "Epoch: 2000 , Loss: 144341.46875\n",
      "Epoch: 2100 , Loss: 140000.609375\n",
      "Epoch: 2200 , Loss: 135339.21875\n",
      "Epoch: 2300 , Loss: 129751.3671875\n",
      "Epoch: 2400 , Loss: 124578.140625\n",
      "Epoch: 2500 , Loss: 119684.296875\n",
      "Epoch: 2600 , Loss: 115954.2109375\n",
      "Epoch: 2700 , Loss: 110956.4453125\n",
      "Epoch: 2800 , Loss: 105429.234375\n",
      "Epoch: 2900 , Loss: 101582.03125\n",
      "Epoch: 3000 , Loss: 95531.8984375\n",
      "Epoch: 3100 , Loss: 92531.8203125\n",
      "Epoch: 3200 , Loss: 87028.4609375\n",
      "Epoch: 3300 , Loss: 81496.1796875\n",
      "Epoch: 3400 , Loss: 77846.640625\n",
      "Epoch: 3500 , Loss: 71324.6796875\n",
      "Epoch: 3600 , Loss: 67753.2109375\n",
      "Epoch: 3700 , Loss: 63566.60546875\n",
      "Epoch: 3800 , Loss: 58614.30859375\n",
      "Epoch: 3900 , Loss: 54764.79296875\n",
      "Epoch: 4000 , Loss: 53408.5\n",
      "Epoch: 4100 , Loss: 47571.36328125\n",
      "Epoch: 4200 , Loss: 46215.70703125\n",
      "Epoch: 4300 , Loss: 45702.453125\n",
      "Epoch: 4400 , Loss: 42074.95703125\n",
      "Epoch: 4500 , Loss: 41081.05859375\n",
      "Epoch: 4600 , Loss: 39493.91015625\n",
      "Epoch: 4700 , Loss: 38550.484375\n",
      "Epoch: 4800 , Loss: 37510.23828125\n",
      "Epoch: 4900 , Loss: 37073.90234375\n",
      "Epoch: 5000 , Loss: 40448.390625\n"
     ]
    }
   ],
   "source": [
    "# Running the model:\n",
    "\n",
    "\n",
    "epochs = 5000\n",
    "final_losses = []\n",
    "\n",
    "for i in range(epochs):\n",
    "    y_pred = model(train_categorical_data,train_cont)\n",
    "    loss = torch.sqrt(loss_function(y_pred,y_train))   # RMSE\n",
    "    final_losses.append(loss.detach().numpy())\n",
    "    if i%100==0:\n",
    "        print(\"Epoch: {} , Loss: {}\".format(i, loss.detach().numpy()))\n",
    "    \n",
    "    optimiser.zero_grad()\n",
    "    loss.backward()\n",
    "    optimiser.step()"
   ]
  },
  {
   "cell_type": "code",
   "execution_count": 597,
   "metadata": {},
   "outputs": [
    {
     "data": {
      "text/plain": [
       "Text(0, 0.5, 'RMSE Loss')"
      ]
     },
     "execution_count": 597,
     "metadata": {},
     "output_type": "execute_result"
    },
    {
     "data": {
      "image/png": "[encoded data removed]",
      "text/plain": [
       "<Figure size 640x480 with 1 Axes>"
      ]
     },
     "metadata": {},
     "output_type": "display_data"
    }
   ],
   "source": [
    "# PLOTTING THE GRAPH:\n",
    "\n",
    "plt.plot(range(epochs), final_losses)\n",
    "plt.xlabel(\"Epochs\")\n",
    "plt.ylabel(\"RMSE Loss\")"
   ]
  },
  {
   "cell_type": "markdown",
   "metadata": {},
   "source": [
    "#### VALIDATE THE TEST DATA:"
   ]
  },
  {
   "cell_type": "code",
   "execution_count": null,
   "metadata": {},
   "outputs": [
    {
     "name": "stdout",
     "output_type": "stream",
     "text": [
      "RMSE Loss On Test Data: 51972.49609375\n"
     ]
    }
   ],
   "source": [
    "with torch.no_grad():\n",
    "    y_pred = model(test_categorical_data,test_cont)\n",
    "    loss = torch.sqrt(loss_function(y_pred,y_test))\n",
    "\n",
    "print(\"RMSE Loss On Test Data: {}\".format(loss.detach().numpy()))      "
   ]
  },
  {
   "cell_type": "code",
   "execution_count": null,
   "metadata": {},
   "outputs": [],
   "source": [
    "# SAVING THE MODEL details Only\n",
    "\n",
    "torch.save(model, \"HousePrice.pt\")"
   ]
  },
  {
   "cell_type": "code",
   "execution_count": null,
   "metadata": {},
   "outputs": [],
   "source": [
    "# Save the model along with weights:\n",
    "\n",
    "torch.save(model.state_dict(),\"HousePriceWithWeights.pt\")"
   ]
  },
  {
   "cell_type": "code",
   "execution_count": null,
   "metadata": {},
   "outputs": [],
   "source": [
    "# Loading The saved Model:\n",
    "embs_size = [(15,8),(5,3),(2,1),(4,2)]\n",
    "model1 =FeedForwardNN(embs_size,5,1,[100,50],p=0.4)"
   ]
  },
  {
   "cell_type": "code",
   "execution_count": null,
   "metadata": {},
   "outputs": [
    {
     "ename": "RuntimeError",
     "evalue": "Error(s) in loading state_dict for FeedForwardNN:\n\tUnexpected key(s) in state_dict: \"layers.10.weight\", \"layers.10.bias\", \"layers.10.running_mean\", \"layers.10.running_var\", \"layers.10.num_batches_tracked\", \"layers.12.weight\", \"layers.12.bias\". \n\tsize mismatch for layers.0.weight: copying a param with shape torch.Size([200, 19]) from checkpoint, the shape in current model is torch.Size([100, 19]).\n\tsize mismatch for layers.0.bias: copying a param with shape torch.Size([200]) from checkpoint, the shape in current model is torch.Size([100]).\n\tsize mismatch for layers.2.weight: copying a param with shape torch.Size([200]) from checkpoint, the shape in current model is torch.Size([100]).\n\tsize mismatch for layers.2.bias: copying a param with shape torch.Size([200]) from checkpoint, the shape in current model is torch.Size([100]).\n\tsize mismatch for layers.2.running_mean: copying a param with shape torch.Size([200]) from checkpoint, the shape in current model is torch.Size([100]).\n\tsize mismatch for layers.2.running_var: copying a param with shape torch.Size([200]) from checkpoint, the shape in current model is torch.Size([100]).\n\tsize mismatch for layers.4.weight: copying a param with shape torch.Size([100, 200]) from checkpoint, the shape in current model is torch.Size([50, 100]).\n\tsize mismatch for layers.4.bias: copying a param with shape torch.Size([100]) from checkpoint, the shape in current model is torch.Size([50]).\n\tsize mismatch for layers.6.weight: copying a param with shape torch.Size([100]) from checkpoint, the shape in current model is torch.Size([50]).\n\tsize mismatch for layers.6.bias: copying a param with shape torch.Size([100]) from checkpoint, the shape in current model is torch.Size([50]).\n\tsize mismatch for layers.6.running_mean: copying a param with shape torch.Size([100]) from checkpoint, the shape in current model is torch.Size([50]).\n\tsize mismatch for layers.6.running_var: copying a param with shape torch.Size([100]) from checkpoint, the shape in current model is torch.Size([50]).\n\tsize mismatch for layers.8.weight: copying a param with shape torch.Size([50, 100]) from checkpoint, the shape in current model is torch.Size([1, 50]).\n\tsize mismatch for layers.8.bias: copying a param with shape torch.Size([50]) from checkpoint, the shape in current model is torch.Size([1]).",
     "output_type": "error",
     "traceback": [
      "\u001b[0;31m---------------------------------------------------------------------------\u001b[0m",
      "\u001b[0;31mRuntimeError\u001b[0m                              Traceback (most recent call last)",
      "Cell \u001b[0;32mIn[549], line 2\u001b[0m\n\u001b[1;32m      1\u001b[0m \u001b[38;5;66;03m# Loading Model Weights:\u001b[39;00m\n\u001b[0;32m----> 2\u001b[0m \u001b[43mmodel1\u001b[49m\u001b[38;5;241;43m.\u001b[39;49m\u001b[43mload_state_dict\u001b[49m\u001b[43m(\u001b[49m\u001b[43mtorch\u001b[49m\u001b[38;5;241;43m.\u001b[39;49m\u001b[43mload\u001b[49m\u001b[43m(\u001b[49m\u001b[38;5;124;43m\"\u001b[39;49m\u001b[38;5;124;43mHousePriceWithWeights.pt\u001b[39;49m\u001b[38;5;124;43m\"\u001b[39;49m\u001b[43m)\u001b[49m\u001b[43m)\u001b[49m\n",
      "File \u001b[0;32m~/.local/lib/python3.10/site-packages/torch/nn/modules/module.py:2189\u001b[0m, in \u001b[0;36mModule.load_state_dict\u001b[0;34m(self, state_dict, strict, assign)\u001b[0m\n\u001b[1;32m   2184\u001b[0m         error_msgs\u001b[38;5;241m.\u001b[39minsert(\n\u001b[1;32m   2185\u001b[0m             \u001b[38;5;241m0\u001b[39m, \u001b[38;5;124m'\u001b[39m\u001b[38;5;124mMissing key(s) in state_dict: \u001b[39m\u001b[38;5;132;01m{}\u001b[39;00m\u001b[38;5;124m. \u001b[39m\u001b[38;5;124m'\u001b[39m\u001b[38;5;241m.\u001b[39mformat(\n\u001b[1;32m   2186\u001b[0m                 \u001b[38;5;124m'\u001b[39m\u001b[38;5;124m, \u001b[39m\u001b[38;5;124m'\u001b[39m\u001b[38;5;241m.\u001b[39mjoin(\u001b[38;5;124mf\u001b[39m\u001b[38;5;124m'\u001b[39m\u001b[38;5;124m\"\u001b[39m\u001b[38;5;132;01m{\u001b[39;00mk\u001b[38;5;132;01m}\u001b[39;00m\u001b[38;5;124m\"\u001b[39m\u001b[38;5;124m'\u001b[39m \u001b[38;5;28;01mfor\u001b[39;00m k \u001b[38;5;129;01min\u001b[39;00m missing_keys)))\n\u001b[1;32m   2188\u001b[0m \u001b[38;5;28;01mif\u001b[39;00m \u001b[38;5;28mlen\u001b[39m(error_msgs) \u001b[38;5;241m>\u001b[39m \u001b[38;5;241m0\u001b[39m:\n\u001b[0;32m-> 2189\u001b[0m     \u001b[38;5;28;01mraise\u001b[39;00m \u001b[38;5;167;01mRuntimeError\u001b[39;00m(\u001b[38;5;124m'\u001b[39m\u001b[38;5;124mError(s) in loading state_dict for \u001b[39m\u001b[38;5;132;01m{}\u001b[39;00m\u001b[38;5;124m:\u001b[39m\u001b[38;5;130;01m\\n\u001b[39;00m\u001b[38;5;130;01m\\t\u001b[39;00m\u001b[38;5;132;01m{}\u001b[39;00m\u001b[38;5;124m'\u001b[39m\u001b[38;5;241m.\u001b[39mformat(\n\u001b[1;32m   2190\u001b[0m                        \u001b[38;5;28mself\u001b[39m\u001b[38;5;241m.\u001b[39m\u001b[38;5;18m__class__\u001b[39m\u001b[38;5;241m.\u001b[39m\u001b[38;5;18m__name__\u001b[39m, \u001b[38;5;124m\"\u001b[39m\u001b[38;5;130;01m\\n\u001b[39;00m\u001b[38;5;130;01m\\t\u001b[39;00m\u001b[38;5;124m\"\u001b[39m\u001b[38;5;241m.\u001b[39mjoin(error_msgs)))\n\u001b[1;32m   2191\u001b[0m \u001b[38;5;28;01mreturn\u001b[39;00m _IncompatibleKeys(missing_keys, unexpected_keys)\n",
      "\u001b[0;31mRuntimeError\u001b[0m: Error(s) in loading state_dict for FeedForwardNN:\n\tUnexpected key(s) in state_dict: \"layers.10.weight\", \"layers.10.bias\", \"layers.10.running_mean\", \"layers.10.running_var\", \"layers.10.num_batches_tracked\", \"layers.12.weight\", \"layers.12.bias\". \n\tsize mismatch for layers.0.weight: copying a param with shape torch.Size([200, 19]) from checkpoint, the shape in current model is torch.Size([100, 19]).\n\tsize mismatch for layers.0.bias: copying a param with shape torch.Size([200]) from checkpoint, the shape in current model is torch.Size([100]).\n\tsize mismatch for layers.2.weight: copying a param with shape torch.Size([200]) from checkpoint, the shape in current model is torch.Size([100]).\n\tsize mismatch for layers.2.bias: copying a param with shape torch.Size([200]) from checkpoint, the shape in current model is torch.Size([100]).\n\tsize mismatch for layers.2.running_mean: copying a param with shape torch.Size([200]) from checkpoint, the shape in current model is torch.Size([100]).\n\tsize mismatch for layers.2.running_var: copying a param with shape torch.Size([200]) from checkpoint, the shape in current model is torch.Size([100]).\n\tsize mismatch for layers.4.weight: copying a param with shape torch.Size([100, 200]) from checkpoint, the shape in current model is torch.Size([50, 100]).\n\tsize mismatch for layers.4.bias: copying a param with shape torch.Size([100]) from checkpoint, the shape in current model is torch.Size([50]).\n\tsize mismatch for layers.6.weight: copying a param with shape torch.Size([100]) from checkpoint, the shape in current model is torch.Size([50]).\n\tsize mismatch for layers.6.bias: copying a param with shape torch.Size([100]) from checkpoint, the shape in current model is torch.Size([50]).\n\tsize mismatch for layers.6.running_mean: copying a param with shape torch.Size([100]) from checkpoint, the shape in current model is torch.Size([50]).\n\tsize mismatch for layers.6.running_var: copying a param with shape torch.Size([100]) from checkpoint, the shape in current model is torch.Size([50]).\n\tsize mismatch for layers.8.weight: copying a param with shape torch.Size([50, 100]) from checkpoint, the shape in current model is torch.Size([1, 50]).\n\tsize mismatch for layers.8.bias: copying a param with shape torch.Size([50]) from checkpoint, the shape in current model is torch.Size([1])."
     ]
    }
   ],
   "source": [
    "# Loading Model Weights:\n",
    "model1.load_state_dict(torch.load(\"HousePriceWithWeights.pt\"))"
   ]
  },
  {
   "cell_type": "code",
   "execution_count": null,
   "metadata": {},
   "outputs": [
    {
     "data": {
      "text/plain": [
       "FeedForwardNN(\n",
       "  (embds): ModuleList(\n",
       "    (0): Embedding(15, 8)\n",
       "    (1): Embedding(5, 3)\n",
       "    (2): Embedding(2, 1)\n",
       "    (3): Embedding(4, 2)\n",
       "  )\n",
       "  (emb_dropout): Dropout(p=0.4, inplace=False)\n",
       "  (batch_norm_cont): BatchNorm1d(5, eps=1e-05, momentum=0.1, affine=True, track_running_stats=True)\n",
       "  (layers): Sequential(\n",
       "    (0): Linear(in_features=19, out_features=100, bias=True)\n",
       "    (1): ReLU(inplace=True)\n",
       "    (2): BatchNorm1d(100, eps=1e-05, momentum=0.1, affine=True, track_running_stats=True)\n",
       "    (3): Dropout(p=0.4, inplace=False)\n",
       "    (4): Linear(in_features=100, out_features=50, bias=True)\n",
       "    (5): ReLU(inplace=True)\n",
       "    (6): BatchNorm1d(50, eps=1e-05, momentum=0.1, affine=True, track_running_stats=True)\n",
       "    (7): Dropout(p=0.4, inplace=False)\n",
       "    (8): Linear(in_features=50, out_features=1, bias=True)\n",
       "  )\n",
       ")"
      ]
     },
     "execution_count": 497,
     "metadata": {},
     "output_type": "execute_result"
    }
   ],
   "source": [
    "model1.eval()"
   ]
  },
  {
   "cell_type": "code",
   "execution_count": null,
   "metadata": {},
   "outputs": [],
   "source": []
  }
 ],
 "metadata": {
  "kernelspec": {
   "display_name": "Python 3",
   "language": "python",
   "name": "python3"
  },
  "language_info": {
   "codemirror_mode": {
    "name": "ipython",
    "version": 3
   },
   "file_extension": ".py",
   "mimetype": "text/x-python",
   "name": "python",
   "nbconvert_exporter": "python",
   "pygments_lexer": "ipython3",
   "version": "3.10.12"
  }
 },
 "nbformat": 4,
 "nbformat_minor": 2
}
