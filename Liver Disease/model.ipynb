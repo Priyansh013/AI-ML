{
 "cells": [
  {
   "cell_type": "code",
   "execution_count": 240,
   "metadata": {},
   "outputs": [],
   "source": [
    "import pandas as pd\n",
    "import numpy as np\n",
    "import torch.nn as nn\n",
    "import torch.nn.functional as F\n",
    "import matplotlib.pyplot as plt\n",
    "%matplotlib inline  \n",
    "from sklearn.model_selection import train_test_split"
   ]
  },
  {
   "cell_type": "code",
   "execution_count": 241,
   "metadata": {},
   "outputs": [],
   "source": [
    "data = pd.read_csv(\"/home/priyansh/ML PROJECTS/Liver Disease/Liver_disease_data.csv\")"
   ]
  },
  {
   "cell_type": "code",
   "execution_count": 242,
   "metadata": {},
   "outputs": [],
   "source": [
    "train,test = train_test_split(data,test_size=0.2,random_state=100)"
   ]
  },
  {
   "cell_type": "code",
   "execution_count": 243,
   "metadata": {},
   "outputs": [],
   "source": [
    "X_train = train.iloc[:,:-1]\n",
    "y_train = train.iloc[:,-1]"
   ]
  },
  {
   "cell_type": "code",
   "execution_count": 244,
   "metadata": {},
   "outputs": [],
   "source": [
    "X_train = np.array(X_train)\n",
    "y_train = np.array(y_train)"
   ]
  },
  {
   "cell_type": "code",
   "execution_count": 245,
   "metadata": {},
   "outputs": [],
   "source": [
    "X_train = torch.FloatTensor(X_train)\n",
    "y_train = torch.LongTensor(y_train)"
   ]
  },
  {
   "cell_type": "code",
   "execution_count": 246,
   "metadata": {},
   "outputs": [],
   "source": [
    "# CREATING MODEL:\n",
    "\n",
    "\n",
    "\n",
    "class Model(nn.Module):\n",
    "    \n",
    "    \n",
    "    def __init__(self, in_features=10, h1 = 10 , h2 = 10 , out_features=2):\n",
    "        super().__init__()\n",
    "        self.fc1 = nn.Linear(in_features,h1)\n",
    "        self.fc2 = nn.Linear(h1,h2)\n",
    "        self.out = nn.Linear(h2,out_features)\n",
    "        \n",
    "        \n",
    "        \n",
    "    def forward(self,x):\n",
    "        x = F.relu(self.fc1(x))\n",
    "        x = F.relu(self.fc2(x))\n",
    "        x = self.out(x)\n",
    "        \n",
    "        return x\n",
    "    \n",
    "    "
   ]
  },
  {
   "cell_type": "code",
   "execution_count": 247,
   "metadata": {},
   "outputs": [
    {
     "data": {
      "text/plain": [
       "<bound method Module.parameters of Model(\n",
       "  (fc1): Linear(in_features=10, out_features=10, bias=True)\n",
       "  (fc2): Linear(in_features=10, out_features=10, bias=True)\n",
       "  (out): Linear(in_features=10, out_features=2, bias=True)\n",
       ")>"
      ]
     },
     "execution_count": 247,
     "metadata": {},
     "output_type": "execute_result"
    }
   ],
   "source": [
    "model.parameters"
   ]
  },
  {
   "cell_type": "code",
   "execution_count": 248,
   "metadata": {},
   "outputs": [],
   "source": [
    "torch.manual_seed(100)\n",
    "\n",
    "\n",
    "model = Model()"
   ]
  },
  {
   "cell_type": "code",
   "execution_count": 249,
   "metadata": {},
   "outputs": [],
   "source": [
    "criterion = nn.CrossEntropyLoss()\n",
    "\n",
    "optimizer = torch.optim.Adam(model.parameters(),lr=0.001)"
   ]
  },
  {
   "cell_type": "code",
   "execution_count": 250,
   "metadata": {},
   "outputs": [],
   "source": [
    "def prediction(y_pred):\n",
    "    y_pred = y_pred.detach().numpy().reshape(-1,2)\n",
    "    return np.argmax(y_pred,axis=1)\n",
    "\n",
    "\n",
    "def cal_accuracy(y_pred,y_train):\n",
    "    y_train = y_train.detach().numpy()\n",
    "    return np.sum(y_train == y_pred)/y_pred.shape[0]"
   ]
  },
  {
   "cell_type": "code",
   "execution_count": 251,
   "metadata": {},
   "outputs": [
    {
     "name": "stdout",
     "output_type": "stream",
     "text": [
      "Epoch: 0 , Loss: 1.8367668390274048 , Accuracy: 40.14705882352941% \n",
      "Epoch: 100 , Loss: 0.684309720993042 , Accuracy: 58.602941176470594% \n",
      "Epoch: 200 , Loss: 0.6288884878158569 , Accuracy: 62.86764705882353% \n",
      "Epoch: 300 , Loss: 0.5852807760238647 , Accuracy: 67.3529411764706% \n",
      "Epoch: 400 , Loss: 0.5514234900474548 , Accuracy: 71.17647058823529% \n",
      "Epoch: 500 , Loss: 0.5243388414382935 , Accuracy: 74.19117647058823% \n",
      "Epoch: 600 , Loss: 0.49883148074150085 , Accuracy: 76.17647058823529% \n",
      "Epoch: 700 , Loss: 0.47470271587371826 , Accuracy: 77.79411764705883% \n",
      "Epoch: 800 , Loss: 0.453086793422699 , Accuracy: 78.67647058823529% \n",
      "Epoch: 900 , Loss: 0.4332897961139679 , Accuracy: 79.8529411764706% \n",
      "Epoch: 1000 , Loss: 0.4172372817993164 , Accuracy: 80.95588235294117% \n",
      "Epoch: 1100 , Loss: 0.4054158926010132 , Accuracy: 81.91176470588235% \n",
      "Epoch: 1200 , Loss: 0.39662039279937744 , Accuracy: 82.6470588235294% \n",
      "Epoch: 1300 , Loss: 0.390173077583313 , Accuracy: 82.94117647058825% \n",
      "Epoch: 1400 , Loss: 0.38609135150909424 , Accuracy: 83.16176470588236% \n",
      "Epoch: 1500 , Loss: 0.38297247886657715 , Accuracy: 83.01470588235294% \n",
      "Epoch: 1600 , Loss: 0.3807940185070038 , Accuracy: 83.38235294117648% \n",
      "Epoch: 1700 , Loss: 0.3790625035762787 , Accuracy: 83.45588235294117% \n",
      "Epoch: 1800 , Loss: 0.37783530354499817 , Accuracy: 83.75% \n",
      "Epoch: 1900 , Loss: 0.376666396856308 , Accuracy: 83.75% \n",
      "Epoch: 2000 , Loss: 0.3751772344112396 , Accuracy: 84.11764705882354% \n",
      "Epoch: 2100 , Loss: 0.37099406123161316 , Accuracy: 84.48529411764706% \n",
      "Epoch: 2200 , Loss: 0.36458536982536316 , Accuracy: 84.85294117647058% \n",
      "Epoch: 2300 , Loss: 0.3595232665538788 , Accuracy: 84.77941176470588% \n",
      "Epoch: 2400 , Loss: 0.3567658066749573 , Accuracy: 85.0% \n",
      "Epoch: 2500 , Loss: 0.354652464389801 , Accuracy: 85.51470588235294% \n",
      "Epoch: 2600 , Loss: 0.3530464768409729 , Accuracy: 85.29411764705883% \n",
      "Epoch: 2700 , Loss: 0.3519645631313324 , Accuracy: 85.36764705882352% \n",
      "Epoch: 2800 , Loss: 0.3510074019432068 , Accuracy: 85.44117647058823% \n",
      "Epoch: 2900 , Loss: 0.3497965335845947 , Accuracy: 85.51470588235294% \n",
      "Epoch: 3000 , Loss: 0.34859800338745117 , Accuracy: 85.51470588235294% \n",
      "Epoch: 3100 , Loss: 0.34782853722572327 , Accuracy: 86.02941176470588% \n",
      "Epoch: 3200 , Loss: 0.34714171290397644 , Accuracy: 85.95588235294119% \n",
      "Epoch: 3300 , Loss: 0.34657612442970276 , Accuracy: 86.1029411764706% \n",
      "Epoch: 3400 , Loss: 0.3459028899669647 , Accuracy: 86.25% \n",
      "Epoch: 3500 , Loss: 0.34543541073799133 , Accuracy: 86.39705882352942% \n",
      "Epoch: 3600 , Loss: 0.34484508633613586 , Accuracy: 86.39705882352942% \n",
      "Epoch: 3700 , Loss: 0.34442514181137085 , Accuracy: 86.61764705882354% \n",
      "Epoch: 3800 , Loss: 0.34419432282447815 , Accuracy: 86.32352941176471% \n",
      "Epoch: 3900 , Loss: 0.3437814712524414 , Accuracy: 86.47058823529412% \n",
      "Epoch: 4000 , Loss: 0.34342068433761597 , Accuracy: 86.25% \n",
      "Epoch: 4100 , Loss: 0.3429960012435913 , Accuracy: 86.47058823529412% \n",
      "Epoch: 4200 , Loss: 0.34279271960258484 , Accuracy: 86.47058823529412% \n",
      "Epoch: 4300 , Loss: 0.3424973785877228 , Accuracy: 86.47058823529412% \n",
      "Epoch: 4400 , Loss: 0.3423992395401001 , Accuracy: 86.32352941176471% \n",
      "Epoch: 4500 , Loss: 0.34216657280921936 , Accuracy: 86.61764705882354% \n",
      "Epoch: 4600 , Loss: 0.3420872092247009 , Accuracy: 86.1029411764706% \n",
      "Epoch: 4700 , Loss: 0.3418414294719696 , Accuracy: 86.32352941176471% \n",
      "Epoch: 4800 , Loss: 0.34167131781578064 , Accuracy: 86.47058823529412% \n",
      "Epoch: 4900 , Loss: 0.3415301740169525 , Accuracy: 86.54411764705883% \n",
      "Epoch: 5000 , Loss: 0.34182870388031006 , Accuracy: 86.02941176470588% \n",
      "Epoch: 5100 , Loss: 0.3414173126220703 , Accuracy: 86.54411764705883% \n",
      "Epoch: 5200 , Loss: 0.3413231670856476 , Accuracy: 86.32352941176471% \n",
      "Epoch: 5300 , Loss: 0.34127330780029297 , Accuracy: 86.32352941176471% \n",
      "Epoch: 5400 , Loss: 0.34114477038383484 , Accuracy: 86.54411764705883% \n",
      "Epoch: 5500 , Loss: 0.340858519077301 , Accuracy: 86.47058823529412% \n",
      "Epoch: 5600 , Loss: 0.3407403528690338 , Accuracy: 86.32352941176471% \n",
      "Epoch: 5700 , Loss: 0.3406839370727539 , Accuracy: 86.47058823529412% \n",
      "Epoch: 5800 , Loss: 0.34055095911026 , Accuracy: 86.47058823529412% \n",
      "Epoch: 5900 , Loss: 0.3404349684715271 , Accuracy: 86.39705882352942% \n",
      "Epoch: 6000 , Loss: 0.3402554392814636 , Accuracy: 86.32352941176471% \n",
      "Epoch: 6100 , Loss: 0.3403262197971344 , Accuracy: 86.47058823529412% \n",
      "Epoch: 6200 , Loss: 0.34013092517852783 , Accuracy: 86.1764705882353% \n",
      "Epoch: 6300 , Loss: 0.3401950001716614 , Accuracy: 86.69117647058823% \n",
      "Epoch: 6400 , Loss: 0.33997052907943726 , Accuracy: 86.32352941176471% \n",
      "Epoch: 6500 , Loss: 0.33970773220062256 , Accuracy: 86.39705882352942% \n",
      "Epoch: 6600 , Loss: 0.33984512090682983 , Accuracy: 86.25% \n",
      "Epoch: 6700 , Loss: 0.33964264392852783 , Accuracy: 86.25% \n",
      "Epoch: 6800 , Loss: 0.33947914838790894 , Accuracy: 86.32352941176471% \n",
      "Epoch: 6900 , Loss: 0.33952751755714417 , Accuracy: 86.02941176470588% \n",
      "Epoch: 7000 , Loss: 0.3392685353755951 , Accuracy: 86.32352941176471% \n",
      "Epoch: 7100 , Loss: 0.339290589094162 , Accuracy: 86.47058823529412% \n",
      "Epoch: 7200 , Loss: 0.3392826020717621 , Accuracy: 86.1029411764706% \n",
      "Epoch: 7300 , Loss: 0.33913788199424744 , Accuracy: 86.1764705882353% \n",
      "Epoch: 7400 , Loss: 0.33895808458328247 , Accuracy: 86.39705882352942% \n",
      "Epoch: 7500 , Loss: 0.3388857841491699 , Accuracy: 86.54411764705883% \n",
      "Epoch: 7600 , Loss: 0.3388935625553131 , Accuracy: 86.39705882352942% \n",
      "Epoch: 7700 , Loss: 0.3387577533721924 , Accuracy: 86.61764705882354% \n",
      "Epoch: 7800 , Loss: 0.3387010097503662 , Accuracy: 86.54411764705883% \n",
      "Epoch: 7900 , Loss: 0.3387738764286041 , Accuracy: 86.32352941176471% \n",
      "Epoch: 8000 , Loss: 0.3385678231716156 , Accuracy: 86.54411764705883% \n",
      "Epoch: 8100 , Loss: 0.33853209018707275 , Accuracy: 86.47058823529412% \n",
      "Epoch: 8200 , Loss: 0.3384804129600525 , Accuracy: 86.47058823529412% \n",
      "Epoch: 8300 , Loss: 0.33856117725372314 , Accuracy: 86.25% \n",
      "Epoch: 8400 , Loss: 0.3383522927761078 , Accuracy: 86.47058823529412% \n",
      "Epoch: 8500 , Loss: 0.33830201625823975 , Accuracy: 86.47058823529412% \n",
      "Epoch: 8600 , Loss: 0.33837246894836426 , Accuracy: 86.39705882352942% \n",
      "Epoch: 8700 , Loss: 0.33822426199913025 , Accuracy: 86.47058823529412% \n",
      "Epoch: 8800 , Loss: 0.3381600081920624 , Accuracy: 86.32352941176471% \n",
      "Epoch: 8900 , Loss: 0.33808985352516174 , Accuracy: 86.39705882352942% \n",
      "Epoch: 9000 , Loss: 0.33805733919143677 , Accuracy: 86.47058823529412% \n",
      "Epoch: 9100 , Loss: 0.33809709548950195 , Accuracy: 86.39705882352942% \n",
      "Epoch: 9200 , Loss: 0.3380178213119507 , Accuracy: 86.47058823529412% \n",
      "Epoch: 9300 , Loss: 0.3379104733467102 , Accuracy: 86.47058823529412% \n",
      "Epoch: 9400 , Loss: 0.3378418982028961 , Accuracy: 86.39705882352942% \n",
      "Epoch: 9500 , Loss: 0.33787786960601807 , Accuracy: 86.61764705882354% \n",
      "Epoch: 9600 , Loss: 0.33759304881095886 , Accuracy: 86.83823529411765% \n",
      "Epoch: 9700 , Loss: 0.33752426505088806 , Accuracy: 86.83823529411765% \n",
      "Epoch: 9800 , Loss: 0.33772438764572144 , Accuracy: 86.39705882352942% \n",
      "Epoch: 9900 , Loss: 0.33752554655075073 , Accuracy: 86.54411764705883% \n"
     ]
    }
   ],
   "source": [
    "# TRAIn model:\n",
    "\n",
    "\n",
    "\n",
    "epochs = 10000\n",
    "\n",
    "losses = []\n",
    "Accuracy=[]\n",
    "\n",
    "for i in range(epochs):\n",
    "    y_pred = model.forward(X_train)\n",
    "    \n",
    "    diog = prediction(y_pred)\n",
    "    \n",
    "    accuracy = cal_accuracy(diog,y_train)\n",
    "    Accuracy.append(accuracy)\n",
    "    \n",
    "    loss = criterion(y_pred,y_train)\n",
    "    \n",
    "    losses.append(loss.detach().numpy())\n",
    "    \n",
    "    if i%100 ==0:\n",
    "        print(f\"Epoch: {i} , Loss: {loss} , Accuracy: {accuracy*100}% \")   # \n",
    "    \n",
    "    optimizer.zero_grad()\n",
    "    loss.backward()\n",
    "    optimizer.step()    "
   ]
  },
  {
   "cell_type": "code",
   "execution_count": 252,
   "metadata": {},
   "outputs": [
    {
     "data": {
      "image/png": "[encoded data removed]",
      "text/plain": [
       "<Figure size 1000x400 with 2 Axes>"
      ]
     },
     "metadata": {},
     "output_type": "display_data"
    }
   ],
   "source": [
    "# Create a figure and a set of subplots\n",
    "fig, axs = plt.subplots(1, 2, figsize=(10, 4))\n",
    "\n",
    "# Plot data on each subplot\n",
    "axs[0].plot(range(epochs),losses)\n",
    "axs[0].set_title('Loss')\n",
    "\n",
    "axs[1].plot(range(epochs),Accuracy)\n",
    "axs[1].set_title('Accuracy')\n",
    "\n",
    "# Display the figure\n",
    "plt.show()"
   ]
  },
  {
   "cell_type": "code",
   "execution_count": 255,
   "metadata": {},
   "outputs": [],
   "source": [
    "X_test = test.iloc[:,:-1]\n",
    "y_test = test.iloc[:,-1]\n",
    "\n",
    "\n",
    "X_test = torch.FloatTensor(np.array(X_test))\n",
    "y_test = torch.LongTensor(np.array(y_test))"
   ]
  },
  {
   "cell_type": "code",
   "execution_count": null,
   "metadata": {},
   "outputs": [],
   "source": []
  },
  {
   "cell_type": "code",
   "execution_count": 263,
   "metadata": {},
   "outputs": [
    {
     "name": "stdout",
     "output_type": "stream",
     "text": [
      "Train Accuracy: 86.76% \n",
      "Test Accurcay: 83.24%\n"
     ]
    }
   ],
   "source": [
    "# Test on test_data:\n",
    "with torch.no_grad():\n",
    "    y_pred = model.forward(X_test)\n",
    "    y_pred = prediction(y_pred)\n",
    "    acc= cal_accuracy(y_pred,y_test)\n",
    "    print(f\"Train Accuracy: {Accuracy[-1]*100:.2f}% \")\n",
    "    print(f\"Test Accurcay: {acc*100 :.2f}%\")\n",
    "   \n",
    "\n",
    "\n",
    "\n"
   ]
  },
  {
   "cell_type": "code",
   "execution_count": null,
   "metadata": {},
   "outputs": [],
   "source": []
  }
 ],
 "metadata": {
  "kernelspec": {
   "display_name": "Python 3",
   "language": "python",
   "name": "python3"
  },
  "language_info": {
   "codemirror_mode": {
    "name": "ipython",
    "version": 3
   },
   "file_extension": ".py",
   "mimetype": "text/x-python",
   "name": "python",
   "nbconvert_exporter": "python",
   "pygments_lexer": "ipython3",
   "version": "3.10.12"
  }
 },
 "nbformat": 4,
 "nbformat_minor": 2
}
